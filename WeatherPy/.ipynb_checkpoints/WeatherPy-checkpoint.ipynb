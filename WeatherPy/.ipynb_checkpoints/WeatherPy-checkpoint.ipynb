{
 "cells": [
  {
   "cell_type": "markdown",
   "metadata": {},
   "source": [
    "# WeatherPy\n",
    "----\n",
    "\n",
    "#### Note\n",
    "* Instructions have been included for each segment. You do not have to follow them exactly, but they are included to help you think through the steps."
   ]
  },
  {
   "cell_type": "code",
   "execution_count": 1,
   "metadata": {
    "scrolled": true
   },
   "outputs": [],
   "source": [
    "# Dependencies and Setup\n",
    "import matplotlib.pyplot as plt\n",
    "import pandas as pd\n",
    "import numpy as np\n",
    "import requests\n",
    "import time\n",
    "from datetime import datetime\n",
    "from scipy.stats import linregress, pearsonr\n",
    "\n",
    "# Import API key\n",
    "from api_keys import weather_api_key\n",
    "\n",
    "# Incorporated citipy to determine city based on latitude and longitude\n",
    "from citipy import citipy\n",
    "\n",
    "# Output File (CSV)\n",
    "output_data_file = \"output_data/cities.csv\"\n",
    "\n",
    "# Range of latitudes and longitudes\n",
    "lat_range = (-90, 90)\n",
    "lng_range = (-180, 180)"
   ]
  },
  {
   "cell_type": "markdown",
   "metadata": {},
   "source": [
    "## Generate Cities List"
   ]
  },
  {
   "cell_type": "code",
   "execution_count": 2,
   "metadata": {},
   "outputs": [
    {
     "data": {
      "text/plain": [
       "636"
      ]
     },
     "execution_count": 2,
     "metadata": {},
     "output_type": "execute_result"
    }
   ],
   "source": [
    "# List for holding lat_lngs and cities\n",
    "lat_lngs = []\n",
    "cities = []\n",
    "\n",
    "# Create a set of random lat and lng combinations\n",
    "lats = np.random.uniform(lat_range[0], lat_range[1], size=1500)\n",
    "lngs = np.random.uniform(lng_range[0], lng_range[1], size=1500)\n",
    "lat_lngs = zip(lats, lngs)\n",
    "\n",
    "# Identify nearest city for each lat, lng combination\n",
    "for lat_lng in lat_lngs:\n",
    "    city = citipy.nearest_city(lat_lng[0], lat_lng[1]).city_name\n",
    "    \n",
    "    # If the city is unique, then add it to a our cities list\n",
    "    if city not in cities:\n",
    "        cities.append(city)\n",
    "\n",
    "# Print the city count to confirm sufficient count\n",
    "len(cities)"
   ]
  },
  {
   "cell_type": "markdown",
   "metadata": {},
   "source": [
    "### Perform API Calls\n",
    "* Perform a weather check on each city using a series of successive API calls.\n",
    "* Include a print log of each city as it'sbeing processed (with the city number and city name).\n"
   ]
  },
  {
   "cell_type": "code",
   "execution_count": 3,
   "metadata": {},
   "outputs": [
    {
     "name": "stdout",
     "output_type": "stream",
     "text": [
      "4589207 Newberry\n",
      "5848280 Kapaa\n",
      "3994469 Ojinaga\n",
      "2123100 Myaundzha\n",
      "2110227 Butaritari\n",
      "1244926 Hambantota\n",
      "3520994 Puerto Escondido\n",
      "3874787 Punta Arenas\n",
      "964432 Port Alfred\n",
      "3832899 Viedma\n",
      "Weather data for Umzimvubu does not exist.\n",
      "3939168 Huarmey\n",
      "3833367 Ushuaia\n",
      "Weather data for Kazalinsk does not exist.\n",
      "Weather data for Attawapiskat does not exist.\n",
      "3195128 Milići\n",
      "4032243 Vaini\n",
      "2399001 Mayumba\n",
      "5106841 Albany\n",
      "3671519 Puerto Carreño\n",
      "5866583 Saint Paul Harbor\n",
      "2514651 Los Llanos de Aridane\n",
      "5367788 Lompoc\n",
      "4030556 Rikitea\n",
      "3932145 Pisco\n",
      "471430 Votkinsk\n",
      "3984997 San Quintín\n",
      "2301217 Ejura\n",
      "2065594 Mount Isa\n",
      "686090 Asău\n",
      "5850554 Makakilo City\n",
      "Weather data for Amderma does not exist.\n",
      "2033301 Youhao\n",
      "2158767 Mareeba\n",
      "6167817 Torbay\n",
      "4470244 Havelock\n",
      "Weather data for Taolanaro does not exist.\n",
      "2032201 Bulgan\n",
      "Weather data for Bacuit does not exist.\n",
      "6089245 Norman Wells\n",
      "5122534 Jamestown\n",
      "2155415 New Norfolk\n",
      "2126785 Belaya Gora\n",
      "1819729 Hong Kong\n",
      "943032 Volksrust\n",
      "1633419 Padang\n",
      "935215 Saint-Philippe\n",
      "4513583 Hamilton\n",
      "2094342 Kavieng\n",
      "2180815 Tuatapere\n",
      "5983720 Iqaluit\n",
      "2377457 Nouadhibou\n",
      "Weather data for Barentsburg does not exist.\n",
      "3347019 Mossamedes\n",
      "2112309 Katsuura\n",
      "3985168 San Patricio\n",
      "3372472 Vila Franca do Campo\n",
      "1015776 Bredasdorp\n",
      "6170031 Tuktoyaktuk\n",
      "Weather data for Tabukiniberu does not exist.\n",
      "Weather data for Mys Shmidta does not exist.\n",
      "2271968 Aljezur\n",
      "3430863 Mar del Plata\n",
      "236901 Ouadda\n",
      "Weather data for Khonuu does not exist.\n",
      "3382226 Camopi\n",
      "4035715 Avarua\n",
      "1651531 Ambon City\n",
      "3369157 Cape Town\n",
      "Weather data for Illoqqortoormiut does not exist.\n",
      "3894426 Coyhaique\n",
      "6201424 Mataura\n",
      "921786 Mitsamiouli\n",
      "1067565 Beloha\n",
      "1507390 Dikson\n",
      "2075265 Busselton\n",
      "Weather data for Kawana Waters does not exist.\n",
      "3521972 Panabá\n",
      "546105 Nikolskoye\n",
      "4013679 Coahuayana Viejo\n",
      "3374210 São Filipe\n",
      "1805857 Jieshi\n",
      "4944903 Nantucket\n",
      "3985710 Cabo San Lucas\n",
      "3534632 Varadero\n",
      "2013375 Vitim\n",
      "2163355 Hobart\n",
      "4031574 Provideniya\n",
      "5197850 Lewistown\n",
      "3416888 Grindavik\n",
      "2136825 Isangel\n",
      "Weather data for Pozo De Gamboa does not exist.\n",
      "2630299 Hofn\n",
      "2264557 Ponta do Sol\n",
      "606531 Boden\n",
      "1621313 Ambulu\n",
      "1528998 Yumen\n",
      "5882953 Aklavik\n",
      "2034791 Shuangyang\n",
      "777019 Vardø\n",
      "933677 Kasane\n",
      "933995 Souillac\n",
      "5478673 Meadow Lake\n",
      "3870243 Taltal\n",
      "3108269 Santa Engracia\n",
      "3991622 La Providencia\n",
      "6185377 Yellowknife\n",
      "Weather data for Belushya Guba does not exist.\n",
      "520552 Nizhniy Odes\n",
      "5838199 Sheridan\n",
      "5847411 Kahului\n",
      "915471 Kalabo\n",
      "1645528 Denpasar\n",
      "2121385 Severo-Kuril'sk\n",
      "5977046 Hornepayne\n",
      "934649 Cap Malheureux\n",
      "3418910 Upernavik\n",
      "2108857 Gizo Government Station\n",
      "1503940 Kedrovka\n",
      "296852 Erzin\n",
      "3883457 Lebu\n",
      "Weather data for Yomitan does not exist.\n",
      "3598415 Chisec\n",
      "1154689 Ko Samui\n",
      "3533462 Acapulco de Juárez\n",
      "2079582 Alyangula\n",
      "3466165 Cidreira\n",
      "2206939 Bluff\n",
      "3424607 Tasiilaq\n",
      "5546220 Saint George\n",
      "3414079 Olafsvik\n",
      "2028462 Ulaanbaatar\n",
      "3466704 Castro\n",
      "3457455 Matinhos\n",
      "2436400 Ati\n",
      "1648082 Boyolangu\n",
      "5282297 Bethel\n",
      "2022572 Khatanga\n",
      "3664956 Boca do Acre\n",
      "2127202 Anadyr\n",
      "1266436 Koch Bihār\n",
      "1638352 Lasem\n",
      "2137773 Vao\n",
      "5880054 Barrow\n",
      "5855927 Hilo\n",
      "4920986 Griffith\n",
      "2331447 Maiduguri\n",
      "2729907 Longyearbyen\n",
      "934322 Mahébourg\n",
      "666583 Socodor\n",
      "3461888 Guarapari\n",
      "1045114 Inhambane\n",
      "103630 Najrān\n",
      "2015545 Tarbagatay\n",
      "3419842 Sisimiut\n",
      "2142316 Yeppoon\n",
      "Weather data for Marcona does not exist.\n",
      "1787599 Xingyi\n",
      "2015306 Tiksi\n",
      "2332453 Lagos\n",
      "2074865 Carnarvon\n",
      "467084 Yertsevo\n",
      "2026861 Berdigestyakh\n",
      "6164499 The Pas\n",
      "1259385 Port Blair\n",
      "2392087 Porto-Novo\n",
      "1313479 Loikaw\n",
      "2563140 Dingli\n",
      "935214 Saint-Pierre\n",
      "2240449 Luanda\n",
      "2098329 Daru\n",
      "535839 Leshukonskoye\n",
      "1519030 Chu\n",
      "2618795 Klaksvík\n",
      "556268 Ostrovnoy\n",
      "3628473 San Cristobal\n",
      "3855065 General Roca\n",
      "7671223 Kloulklubed\n",
      "4020109 Atuona\n",
      "1800163 Nanchang\n",
      "4034496 Fare\n",
      "2017155 Saskylakh\n",
      "687652 Zarichne\n",
      "4392354 Jasper\n",
      "1006984 East London\n",
      "Weather data for Gulshat does not exist.\n",
      "6255012 Flinders\n",
      "Weather data for Samusu does not exist.\n",
      "3372964 Lagoa\n",
      "3946820 Barranca\n",
      "2290849 Bouna\n",
      "934479 Grand Gaube\n",
      "2014624 Udachny\n",
      "6111862 Port Hardy\n",
      "2629833 Husavik\n",
      "5563839 Fortuna\n",
      "3831208 Qaanaaq\n",
      "2015686 Talakan\n",
      "Weather data for Palabuhanratu does not exist.\n",
      "1263494 Mormugao\n",
      "128321 Kāzerūn\n",
      "2138285 Tadine\n",
      "3366880 Hermanus\n",
      "4033077 Vaitape\n",
      "Weather data for Halalo does not exist.\n",
      "5554428 Ketchikan\n",
      "3105522 Bereda\n",
      "3652764 Puerto Ayora\n",
      "1651810 Airai\n",
      "3690608 Zorritos\n",
      "3655131 La Libertad\n",
      "2205631 Raymond Terrace\n",
      "2212775 Sabha\n",
      "Weather data for Warqla does not exist.\n",
      "4034551 Faanui\n",
      "2126123 Chokurdakh\n",
      "3176959 Florence\n",
      "4946620 Palmer\n",
      "2119283 Zyryanka\n",
      "3422683 Kangaatsiaq\n",
      "2128975 Nemuro\n",
      "5554072 Juneau\n",
      "2037485 Erenhot\n",
      "2027316 Ayan\n",
      "1862505 Hirara\n",
      "5463237 Corrales\n",
      "3450188 Santa Isabel\n",
      "1106677 Bambous Virieux\n",
      "3358416 Bethanien\n",
      "2208248 Kaitangata\n",
      "578283 Spornoye\n",
      "1629380 Ruteng\n",
      "1214488 Meulaboh\n",
      "2644210 Liverpool\n",
      "2178753 Kirakira\n",
      "2171722 Charters Towers\n",
      "Weather data for Bobonong does not exist.\n",
      "3448903 São João da Barra\n",
      "2016757 Shelopugino\n",
      "1785781 Yulin\n",
      "236950 Obo\n",
      "525426 Sobolevo\n",
      "6089404 North Battleford\n",
      "6137462 Saint-Augustin\n",
      "2126199 Cherskiy\n",
      "Weather data for Karaul does not exist.\n",
      "3471422 Arroio Grande\n",
      "3893629 Coquimbo\n",
      "1688781 City of San Pedro\n",
      "Weather data for Tsihombe does not exist.\n",
      "2152659 Port Macquarie\n",
      "1527121 Tyup\n",
      "4032369 Pangai\n",
      "3361934 Saldanha\n",
      "1633070 Palembang\n",
      "1696188 Palauig\n",
      "3496021 Nagua\n",
      "Weather data for Yanan does not exist.\n",
      "1735106 George Town\n",
      "4362001 Mayo\n",
      "2450173 Taoudenni\n",
      "3694178 Pacasmayo\n",
      "5110365 Broome\n",
      "3981432 Todos Santos\n",
      "3372707 Ribeira Grande\n",
      "2068110 Kununurra\n",
      "1852357 Shimoda\n",
      "2781373 Bruck an der Leitha\n",
      "5044290 Saint Anthony\n",
      "3372760 Praia da Vitória\n",
      "2021031 Kyren\n",
      "157268 Kingori\n",
      "2070998 Geraldton\n",
      "1516589 Zhezkazgan\n",
      "1283285 Jumla\n",
      "2206874 Waipawa\n",
      "3356832 Henties Bay\n",
      "6096551 Pangnirtung\n",
      "2012530 Zhigansk\n",
      "1650232 Banjar\n",
      "1175012 Kandiari\n",
      "1792916 Tianpeng\n",
      "Weather data for Nizhneyansk does not exist.\n",
      "2109701 Auki\n",
      "2021017 Kysyl-Syr\n",
      "2122090 Pevek\n",
      "3522788 Nautla\n",
      "3893726 Constitución\n",
      "5710360 Winnemucca\n",
      "2171099 Codrington\n",
      "2013279 Vostok\n",
      "2094027 Kieta\n",
      "2025256 Chumikan\n",
      "2063056 Port Augusta\n",
      "2109528 Buala\n",
      "3436616 Ygatimi\n",
      "3430545 Morón\n",
      "2647074 Hereford\n",
      "1267390 Kavaratti\n",
      "3837056 San Luis\n",
      "2980080 Saint-François\n",
      "Weather data for Mrirt does not exist.\n",
      "3645532 Ciudad Bolivar\n",
      "3466980 Caravelas\n",
      "1649150 Bengkulu\n",
      "1627185 Sijunjung\n",
      "3406196 Barreirinhas\n",
      "1253237 Verāval\n",
      "2071860 Esperance\n",
      "514127 Przhevalskoye\n",
      "293842 Kiryat Gat\n",
      "Weather data for Vaitupu does not exist.\n",
      "2122293 Ozernovskiy\n",
      "3672123 Pital\n",
      "Weather data for Sentyabrskiy does not exist.\n",
      "3090403 Oborniki\n",
      "5859699 College\n",
      "Weather data for Rungata does not exist.\n",
      "2427336 Moussoro\n",
      "1226260 Trincomalee\n",
      "3576994 Cockburn Town\n",
      "3336897 La Rioja\n",
      "Weather data for Gorkovskoye does not exist.\n",
      "2013952 Ust'-Ilimsk\n",
      "866062 Iskateley\n",
      "3355672 Lüderitz\n",
      "2173911 Broken Hill\n",
      "2012532 Zhigalovo\n",
      "923058 Kambove\n",
      "3573374 The Valley\n",
      "2181625 Te Anau\n",
      "2304548 Anloga\n",
      "2025630 Chara\n",
      "Weather data for Tlahualilo does not exist.\n",
      "3454005 Piaçabuçu\n",
      "1259184 Puri\n",
      "3943626 Chivay\n",
      "4026082 Lázaro Cárdenas\n",
      "3393692 Itarema\n",
      "4021858 Guerrero Negro\n",
      "3386213 Touros\n",
      "2174444 Bowen\n",
      "1174062 Kharan\n",
      "1486321 Yar-Sale\n",
      "6162949 Terrace\n",
      "3382160 Cayenne\n",
      "5380420 Pacifica\n",
      "155274 Mahenge\n",
      "1855342 Nishihara\n",
      "1786855 Yatou\n",
      "2035707 Mujiayingzi\n",
      "3761194 Miraflores\n",
      "3664659 Carauari\n",
      "240210 Birao\n",
      "3899539 Antofagasta\n",
      "2126710 Beringovskiy\n",
      "1490256 Talnakh\n",
      "2381972 Adrar\n",
      "2487130 Sidi Ali\n",
      "2123628 Magadan\n",
      "1521230 Makīnsk\n",
      "2698767 Kumla\n",
      "3664980 Boa Vista\n",
      "1282256 Hithadhoo\n",
      "3899695 Ancud\n",
      "1790863 Ziyang\n",
      "Weather data for Mazulskiy does not exist.\n",
      "515805 Oktyabr'skoye\n",
      "1506268 Gornopravdinsk\n",
      "2155562 Nelson Bay\n",
      "1052944 Angoche\n",
      "3471451 Arraial do Cabo\n",
      "4036284 Alofi\n",
      "50814 Wajid\n",
      "1272140 Dwārka\n",
      "463838 Zelenoborskiy\n",
      "2281120 Tabou\n",
      "116402 Semnan\n",
      "1515029 Ulaangom\n",
      "3407762 Amapá\n",
      "3542455 Remedios\n",
      "88533 Awjilah\n",
      "3388618 São João do Piauí\n",
      "2135517 Norsup\n",
      "5380437 Pacific Grove\n",
      "Weather data for Kamenskoye does not exist.\n",
      "3421719 Narsaq\n",
      "5746545 Portland\n",
      "3421765 Nanortalik\n",
      "4031637 Lavrentiya\n",
      "924732 Nkhata Bay\n",
      "Weather data for Viligili does not exist.\n",
      "3839982 Punta Alta\n",
      "Weather data for Hvammstangi does not exist.\n",
      "986717 Kruisfontein\n",
      "Weather data for Ngukurr does not exist.\n",
      "3109718 Santander\n",
      "780687 Berlevåg\n",
      "1714733 Dingle\n",
      "1215502 Banda Aceh\n",
      "5983607 Inuvik\n",
      "2134814 Sola\n",
      "590447 Karla\n",
      "917688 Chongwe\n",
      "2126682 Bilibino\n",
      "3393929 Nhamundá\n",
      "3839307 Rawson\n",
      "368246 Raja\n",
      "1863341 Hakui\n",
      "2112802 Hasaki\n",
      "1736405 Jertih\n",
      "1526038 Atbasar\n",
      "5919850 Chapais\n",
      "889942 Hwange\n",
      "4231997 Avera\n",
      "3870282 Talcahuano\n",
      "1337607 Kudahuvadhoo\n",
      "3587498 Acajutla\n",
      "Weather data for Sorvag does not exist.\n",
      "3833883 Trelew\n",
      "6355222 Yulara\n",
      "3461724 Gurupi\n",
      "964420 Port Elizabeth\n",
      "3447928 Seabra\n",
      "3840092 Puerto Madryn\n",
      "1571058 Phan Thiet\n",
      "1495797 Ovsyanka\n",
      "3547398 Matanzas\n",
      "2654970 Brae\n",
      "3495137 Pedernales\n",
      "3443061 Chui\n",
      "4004293 Ixtapa\n",
      "2013465 Verkhoyansk\n",
      "4015700 Cananea\n",
      "3374333 Praia\n",
      "1717550 Cayhagan\n",
      "3904906 Santa Cruz de la Sierra\n",
      "1637001 Biak\n",
      "2542997 Marrakesh\n",
      "1489209 Troitskoye\n",
      "3056711 Vráble\n",
      "110690 Faya\n",
      "5856516 ‘Āhuimanu\n",
      "3347719 Luena\n",
      "1635882 Mataram\n",
      "2419472 Kissidougou\n",
      "2640377 Penzance\n",
      "962367 Richards Bay\n",
      "2012593 Zeya\n",
      "3653967 Muisne\n",
      "5557293 Sitka\n",
      "4707814 Longview\n",
      "5742974 North Bend\n",
      "1496511 Novy Urengoy\n",
      "2194098 Ahipara\n",
      "3625066 Zaraza\n",
      "4992232 Escanaba\n",
      "Weather data for Ruatoria does not exist.\n",
      "2231881 Eséka\n",
      "6301965 Palmerston\n",
      "3897774 Buin\n",
      "218680 Boende\n",
      "Weather data for Barbar does not exist.\n",
      "6085665 Nakusp\n",
      "2396853 Omboué\n",
      "1856392 Muroto-misakicho\n",
      "3897347 Calama\n",
      "Weather data for Shibarghan does not exist.\n",
      "1707944 Lala\n",
      "964349 Potchefstroom\n",
      "2016110 Sretensk\n",
      "359792 Aswān\n",
      "2016907 Severomuysk\n",
      "704422 Krasnoarmiys'k\n",
      "2036973 Heihe\n",
      "6165406 Thompson\n",
      "370457 Maridi\n",
      "5993072 Kitimat\n",
      "Weather data for Solsvik does not exist.\n",
      "2037886 Dandong\n",
      "1218612 Murgab\n",
      "57000 Hobyo\n",
      "Weather data for Grande-Riviere does not exist.\n",
      "1497210 Novoagansk\n",
      "1631637 Pemangkat\n",
      "299582 Tatvan\n",
      "5504003 Fernley\n",
      "2025261 Chul'man\n",
      "2409914 Bonthe\n",
      "Weather data for Tuggurt does not exist.\n",
      "485660 Tsimmerbude\n",
      "3393106 Paragominas\n",
      "2643044 Margate\n",
      "2514301 Mahon\n",
      "3423146 Ilulissat\n",
      "1591474 Bac Lieu\n",
      "5276609 Two Rivers\n",
      "Weather data for Mendahara does not exist.\n",
      "3650956 Sucúa\n",
      "3869716 Tocopilla\n",
      "609919 Quryq\n",
      "1633034 Palu\n",
      "2276492 Harper\n",
      "3544091 Pinar del Río\n",
      "215605 Kabare\n",
      "468747 Yashkul'\n",
      "3445831 Uberlândia\n",
      "297789 Yalvaç\n",
      "6067472 Marystown\n",
      "1298987 Pyinmana\n",
      "2393693 Kandi\n",
      "3579925 St. George's\n",
      "1576633 Lang Son\n",
      "1254046 Tura\n",
      "Weather data for Formoso Do Araguaia does not exist.\n",
      "Weather data for Grand River South East does not exist.\n",
      "2507480 Algiers\n",
      "863061 Usinsk\n",
      "2684653 Oxelösund\n",
      "Weather data for Lolua does not exist.\n",
      "1254709 Tezu\n",
      "3137469 Sørland\n",
      "1140025 Herat Province\n",
      "6620339 Karratha\n",
      "3346015 Sumbe\n",
      "1167380 Rajanpur\n",
      "3175096 Laas\n",
      "2146219 Hervey Bay\n",
      "2236568 Uíge\n",
      "2180737 Turangi\n",
      "347634 Ţahţā\n",
      "5920381 Chase\n",
      "2449893 Tessalit\n",
      "2121025 Srednekolymsk\n",
      "107304 Buraidah\n",
      "5771960 Brigham City\n",
      "2110560 Yamada\n",
      "2738381 Lata\n",
      "2446796 Bilma\n",
      "5931800 Cranbrook\n",
      "608271 Shubarkuduk\n",
      "1264976 Leh\n",
      "Weather data for Mahaicony does not exist.\n",
      "1180289 Dera Ghazi Khan\n",
      "2685750 Östersund\n",
      "747793 Durusu\n",
      "6180550 Whitehorse\n",
      "4692856 Galveston\n",
      "Weather data for Scottsburgh does not exist.\n",
      "Weather data for Zhanatas does not exist.\n",
      "2015852 Svetlaya\n",
      "1835848 Seoul\n",
      "1630723 Poso\n",
      "2214432 Nālūt\n",
      "149812 Sokoni\n",
      "3359638 Walvis Bay\n",
      "2206894 Hokitika\n",
      "1282027 Malé\n",
      "Weather data for Mogochin does not exist.\n",
      "3991347 Puerto Peñasco\n",
      "3608828 Iralaya\n",
      "Weather data for Tabiauea does not exist.\n",
      "5870133 Nome\n",
      "430951 Kayanza Province\n",
      "Weather data for Hakvik does not exist.\n",
      "Weather data for Solovetskiy does not exist.\n",
      "3687238 Cartagena\n",
      "1608033 Pak Phanang\n",
      "3698304 Chimbote\n",
      "2138555 Poum\n",
      "2445704 Diffa\n",
      "1683911 Talipan\n",
      "5526337 Midland\n",
      "1895695 Kushima\n",
      "292968 Abu Dhabi\n",
      "5404476 Ukiah\n",
      "1167528 Quetta\n",
      "3939761 Hualmay\n",
      "Weather data for Grand Centre does not exist.\n",
      "2120591 Tilichiki\n",
      "5864145 Homer\n",
      "155016 Malinyi\n",
      "1521315 Līsakovsk\n",
      "2457161 Gao\n",
      "609906 Fort-Shevchenko\n",
      "5354943 Half Moon Bay\n",
      "1804162 Lengshuitan\n",
      "2328617 Numan\n",
      "2038087 Chengde\n",
      "5924351 Clyde River\n",
      "1106643 Quatre Cocos\n",
      "4764127 Highland Springs\n",
      "2031964 Darhan\n",
      "2019135 Nizhniy Kuranakh\n",
      "2136150 Luganville\n",
      "2125693 Evensk\n",
      "5391295 Salinas\n",
      "1071296 Antalaha\n",
      "8079926 Labuhan\n",
      "3617154 Puerto Cabezas\n",
      "3445026 Vila Velha\n",
      "115781 Shahr-e Bābak\n",
      "2077895 Alice Springs\n",
      "2265447 Olhão\n",
      "2027173 Balyaga\n",
      "Weather data for Utiroa does not exist.\n",
      "3701882 Río de Jesús\n",
      "3389822 Salinópolis\n",
      "10722858 Forsytheganj\n",
      "Weather data for Tumannyy does not exist.\n",
      "1790894 Wuxue\n",
      "345704 Abomsa\n",
      "286621 Salalah\n",
      "1519327 Shakhtinsk\n",
      "3471005 Bambuí\n",
      "2156643 Mount Gambier\n",
      "1293625 Dawei\n",
      "Weather data for Bolungarvik does not exist.\n",
      "2401357 Cocobeach\n",
      "3115824 Muros\n",
      "1278969 Along\n",
      "548478 Kirillov\n",
      "5503914 Fallon\n",
      "Weather data for Sahrak does not exist.\n",
      "1282898 Pokhara\n",
      "2021618 Krasnokamensk\n",
      "339686 Debre Tabor\n",
      "2067089 Maningrida\n",
      "516615 Nyazepetrovsk\n",
      "566629 Demyansk\n",
      "2218840 Bani Walid\n",
      "3385077 Conde\n",
      "4656585 Sevierville\n",
      "1529484 Kumul\n",
      "3372783 Ponta Delgada\n",
      "1516048 Khovd\n"
     ]
    }
   ],
   "source": [
    "names = []\n",
    "clouds = []\n",
    "countries = []\n",
    "dates = []\n",
    "humidities = []\n",
    "latitudes = []\n",
    "longitudes = []\n",
    "max_temps = []\n",
    "wind_speeds = []\n",
    "\n",
    "url = 'https://api.openweathermap.org/data/2.5/weather?'\n",
    "\n",
    "for city in cities:\n",
    "    r = requests.get(url + 'q=' + city + '&units=imperial' + '&APPID=' + weather_api_key).json()\n",
    "    try:\n",
    "        print(r['id'], r['name'])\n",
    "        names.append(r['name'])\n",
    "        clouds.append(r['clouds']['all'])\n",
    "        countries.append(r['sys']['country'])\n",
    "        dates.append(r['dt'])\n",
    "        humidities.append(r['main']['humidity'])\n",
    "        latitudes.append(r['coord']['lat'])\n",
    "        longitudes.append(r['coord']['lon'])\n",
    "        max_temps.append(r['main']['temp_max'])\n",
    "        wind_speeds.append(r['wind']['speed'])\n",
    "    except KeyError:\n",
    "        city = city.title()\n",
    "        print(f'Weather data for {city} does not exist.')\n",
    "city_ids = [i for i in range(len(names))]"
   ]
  },
  {
   "cell_type": "markdown",
   "metadata": {},
   "source": [
    "### Convert Raw Data to DataFrame\n",
    "* Export the city data into a .csv.\n",
    "* Display the DataFrame"
   ]
  },
  {
   "cell_type": "code",
   "execution_count": 4,
   "metadata": {},
   "outputs": [
    {
     "data": {
      "text/html": [
       "<div>\n",
       "<style scoped>\n",
       "    .dataframe tbody tr th:only-of-type {\n",
       "        vertical-align: middle;\n",
       "    }\n",
       "\n",
       "    .dataframe tbody tr th {\n",
       "        vertical-align: top;\n",
       "    }\n",
       "\n",
       "    .dataframe thead th {\n",
       "        text-align: right;\n",
       "    }\n",
       "</style>\n",
       "<table border=\"1\" class=\"dataframe\">\n",
       "  <thead>\n",
       "    <tr style=\"text-align: right;\">\n",
       "      <th></th>\n",
       "      <th>City_ID</th>\n",
       "      <th>City</th>\n",
       "      <th>Cloudiness</th>\n",
       "      <th>Country</th>\n",
       "      <th>Date</th>\n",
       "      <th>Humidity</th>\n",
       "      <th>Lat</th>\n",
       "      <th>Lng</th>\n",
       "      <th>Max Temp</th>\n",
       "      <th>Wind Speed</th>\n",
       "    </tr>\n",
       "  </thead>\n",
       "  <tbody>\n",
       "    <tr>\n",
       "      <th>0</th>\n",
       "      <td>0</td>\n",
       "      <td>Newberry</td>\n",
       "      <td>1</td>\n",
       "      <td>US</td>\n",
       "      <td>1595266632</td>\n",
       "      <td>50</td>\n",
       "      <td>34.27</td>\n",
       "      <td>-81.62</td>\n",
       "      <td>100.00</td>\n",
       "      <td>8.05</td>\n",
       "    </tr>\n",
       "    <tr>\n",
       "      <th>1</th>\n",
       "      <td>1</td>\n",
       "      <td>Kapaa</td>\n",
       "      <td>40</td>\n",
       "      <td>US</td>\n",
       "      <td>1595266477</td>\n",
       "      <td>69</td>\n",
       "      <td>22.08</td>\n",
       "      <td>-159.32</td>\n",
       "      <td>80.60</td>\n",
       "      <td>14.99</td>\n",
       "    </tr>\n",
       "    <tr>\n",
       "      <th>2</th>\n",
       "      <td>2</td>\n",
       "      <td>Ojinaga</td>\n",
       "      <td>1</td>\n",
       "      <td>MX</td>\n",
       "      <td>1595266633</td>\n",
       "      <td>33</td>\n",
       "      <td>29.57</td>\n",
       "      <td>-104.42</td>\n",
       "      <td>89.60</td>\n",
       "      <td>5.82</td>\n",
       "    </tr>\n",
       "    <tr>\n",
       "      <th>3</th>\n",
       "      <td>3</td>\n",
       "      <td>Myaundzha</td>\n",
       "      <td>31</td>\n",
       "      <td>RU</td>\n",
       "      <td>1595266633</td>\n",
       "      <td>70</td>\n",
       "      <td>63.05</td>\n",
       "      <td>147.19</td>\n",
       "      <td>53.26</td>\n",
       "      <td>3.56</td>\n",
       "    </tr>\n",
       "    <tr>\n",
       "      <th>4</th>\n",
       "      <td>4</td>\n",
       "      <td>Butaritari</td>\n",
       "      <td>90</td>\n",
       "      <td>KI</td>\n",
       "      <td>1595266478</td>\n",
       "      <td>67</td>\n",
       "      <td>3.07</td>\n",
       "      <td>172.79</td>\n",
       "      <td>82.78</td>\n",
       "      <td>6.58</td>\n",
       "    </tr>\n",
       "    <tr>\n",
       "      <th>...</th>\n",
       "      <td>...</td>\n",
       "      <td>...</td>\n",
       "      <td>...</td>\n",
       "      <td>...</td>\n",
       "      <td>...</td>\n",
       "      <td>...</td>\n",
       "      <td>...</td>\n",
       "      <td>...</td>\n",
       "      <td>...</td>\n",
       "      <td>...</td>\n",
       "    </tr>\n",
       "    <tr>\n",
       "      <th>571</th>\n",
       "      <td>571</td>\n",
       "      <td>Conde</td>\n",
       "      <td>75</td>\n",
       "      <td>BR</td>\n",
       "      <td>1595266781</td>\n",
       "      <td>83</td>\n",
       "      <td>-7.26</td>\n",
       "      <td>-34.91</td>\n",
       "      <td>78.80</td>\n",
       "      <td>16.11</td>\n",
       "    </tr>\n",
       "    <tr>\n",
       "      <th>572</th>\n",
       "      <td>572</td>\n",
       "      <td>Sevierville</td>\n",
       "      <td>1</td>\n",
       "      <td>US</td>\n",
       "      <td>1595266719</td>\n",
       "      <td>44</td>\n",
       "      <td>35.87</td>\n",
       "      <td>-83.56</td>\n",
       "      <td>93.20</td>\n",
       "      <td>5.82</td>\n",
       "    </tr>\n",
       "    <tr>\n",
       "      <th>573</th>\n",
       "      <td>573</td>\n",
       "      <td>Kumul</td>\n",
       "      <td>100</td>\n",
       "      <td>CN</td>\n",
       "      <td>1595266782</td>\n",
       "      <td>18</td>\n",
       "      <td>42.80</td>\n",
       "      <td>93.45</td>\n",
       "      <td>89.24</td>\n",
       "      <td>10.20</td>\n",
       "    </tr>\n",
       "    <tr>\n",
       "      <th>574</th>\n",
       "      <td>574</td>\n",
       "      <td>Ponta Delgada</td>\n",
       "      <td>75</td>\n",
       "      <td>PT</td>\n",
       "      <td>1595266782</td>\n",
       "      <td>56</td>\n",
       "      <td>37.73</td>\n",
       "      <td>-25.67</td>\n",
       "      <td>73.40</td>\n",
       "      <td>9.17</td>\n",
       "    </tr>\n",
       "    <tr>\n",
       "      <th>575</th>\n",
       "      <td>575</td>\n",
       "      <td>Khovd</td>\n",
       "      <td>50</td>\n",
       "      <td>MN</td>\n",
       "      <td>1595266782</td>\n",
       "      <td>50</td>\n",
       "      <td>48.01</td>\n",
       "      <td>91.64</td>\n",
       "      <td>69.76</td>\n",
       "      <td>3.98</td>\n",
       "    </tr>\n",
       "  </tbody>\n",
       "</table>\n",
       "<p>576 rows × 10 columns</p>\n",
       "</div>"
      ],
      "text/plain": [
       "     City_ID           City  Cloudiness Country        Date  Humidity    Lat  \\\n",
       "0          0       Newberry           1      US  1595266632        50  34.27   \n",
       "1          1          Kapaa          40      US  1595266477        69  22.08   \n",
       "2          2        Ojinaga           1      MX  1595266633        33  29.57   \n",
       "3          3      Myaundzha          31      RU  1595266633        70  63.05   \n",
       "4          4     Butaritari          90      KI  1595266478        67   3.07   \n",
       "..       ...            ...         ...     ...         ...       ...    ...   \n",
       "571      571          Conde          75      BR  1595266781        83  -7.26   \n",
       "572      572    Sevierville           1      US  1595266719        44  35.87   \n",
       "573      573          Kumul         100      CN  1595266782        18  42.80   \n",
       "574      574  Ponta Delgada          75      PT  1595266782        56  37.73   \n",
       "575      575          Khovd          50      MN  1595266782        50  48.01   \n",
       "\n",
       "        Lng  Max Temp  Wind Speed  \n",
       "0    -81.62    100.00        8.05  \n",
       "1   -159.32     80.60       14.99  \n",
       "2   -104.42     89.60        5.82  \n",
       "3    147.19     53.26        3.56  \n",
       "4    172.79     82.78        6.58  \n",
       "..      ...       ...         ...  \n",
       "571  -34.91     78.80       16.11  \n",
       "572  -83.56     93.20        5.82  \n",
       "573   93.45     89.24       10.20  \n",
       "574  -25.67     73.40        9.17  \n",
       "575   91.64     69.76        3.98  \n",
       "\n",
       "[576 rows x 10 columns]"
      ]
     },
     "execution_count": 4,
     "metadata": {},
     "output_type": "execute_result"
    }
   ],
   "source": [
    "df = pd.DataFrame({\n",
    "'City_ID': city_ids,\n",
    "'City': names,\n",
    "'Cloudiness': clouds,\n",
    "'Country': countries,\n",
    "'Date': dates,\n",
    "'Humidity': humidities,\n",
    "'Lat': latitudes,\n",
    "'Lng': longitudes,\n",
    "'Max Temp': max_temps,\n",
    "'Wind Speed': wind_speeds\n",
    "})\n",
    "df"
   ]
  },
  {
   "cell_type": "markdown",
   "metadata": {},
   "source": [
    "## Inspect the data and remove the cities where the humidity > 100%.\n",
    "----\n",
    "Skip this step if there are no cities that have humidity > 100%. "
   ]
  },
  {
   "cell_type": "code",
   "execution_count": 5,
   "metadata": {},
   "outputs": [
    {
     "data": {
      "text/html": [
       "<div>\n",
       "<style scoped>\n",
       "    .dataframe tbody tr th:only-of-type {\n",
       "        vertical-align: middle;\n",
       "    }\n",
       "\n",
       "    .dataframe tbody tr th {\n",
       "        vertical-align: top;\n",
       "    }\n",
       "\n",
       "    .dataframe thead th {\n",
       "        text-align: right;\n",
       "    }\n",
       "</style>\n",
       "<table border=\"1\" class=\"dataframe\">\n",
       "  <thead>\n",
       "    <tr style=\"text-align: right;\">\n",
       "      <th></th>\n",
       "      <th>City_ID</th>\n",
       "      <th>City</th>\n",
       "      <th>Cloudiness</th>\n",
       "      <th>Country</th>\n",
       "      <th>Date</th>\n",
       "      <th>Humidity</th>\n",
       "      <th>Lat</th>\n",
       "      <th>Lng</th>\n",
       "      <th>Max Temp</th>\n",
       "      <th>Wind Speed</th>\n",
       "    </tr>\n",
       "  </thead>\n",
       "  <tbody>\n",
       "  </tbody>\n",
       "</table>\n",
       "</div>"
      ],
      "text/plain": [
       "Empty DataFrame\n",
       "Columns: [City_ID, City, Cloudiness, Country, Date, Humidity, Lat, Lng, Max Temp, Wind Speed]\n",
       "Index: []"
      ]
     },
     "execution_count": 5,
     "metadata": {},
     "output_type": "execute_result"
    }
   ],
   "source": [
    "#  Get the indices of cities that have humidity over 100%.\n",
    "df[df.Humidity > 100]"
   ]
  },
  {
   "cell_type": "code",
   "execution_count": 6,
   "metadata": {},
   "outputs": [
    {
     "data": {
      "text/html": [
       "<div>\n",
       "<style scoped>\n",
       "    .dataframe tbody tr th:only-of-type {\n",
       "        vertical-align: middle;\n",
       "    }\n",
       "\n",
       "    .dataframe tbody tr th {\n",
       "        vertical-align: top;\n",
       "    }\n",
       "\n",
       "    .dataframe thead th {\n",
       "        text-align: right;\n",
       "    }\n",
       "</style>\n",
       "<table border=\"1\" class=\"dataframe\">\n",
       "  <thead>\n",
       "    <tr style=\"text-align: right;\">\n",
       "      <th></th>\n",
       "      <th>City_ID</th>\n",
       "      <th>City</th>\n",
       "      <th>Cloudiness</th>\n",
       "      <th>Country</th>\n",
       "      <th>Date</th>\n",
       "      <th>Humidity</th>\n",
       "      <th>Lat</th>\n",
       "      <th>Lng</th>\n",
       "      <th>Max Temp</th>\n",
       "      <th>Wind Speed</th>\n",
       "    </tr>\n",
       "  </thead>\n",
       "  <tbody>\n",
       "    <tr>\n",
       "      <th>0</th>\n",
       "      <td>0</td>\n",
       "      <td>Newberry</td>\n",
       "      <td>1</td>\n",
       "      <td>US</td>\n",
       "      <td>1595266632</td>\n",
       "      <td>50</td>\n",
       "      <td>34.27</td>\n",
       "      <td>-81.62</td>\n",
       "      <td>100.00</td>\n",
       "      <td>8.05</td>\n",
       "    </tr>\n",
       "    <tr>\n",
       "      <th>1</th>\n",
       "      <td>1</td>\n",
       "      <td>Kapaa</td>\n",
       "      <td>40</td>\n",
       "      <td>US</td>\n",
       "      <td>1595266477</td>\n",
       "      <td>69</td>\n",
       "      <td>22.08</td>\n",
       "      <td>-159.32</td>\n",
       "      <td>80.60</td>\n",
       "      <td>14.99</td>\n",
       "    </tr>\n",
       "    <tr>\n",
       "      <th>2</th>\n",
       "      <td>2</td>\n",
       "      <td>Ojinaga</td>\n",
       "      <td>1</td>\n",
       "      <td>MX</td>\n",
       "      <td>1595266633</td>\n",
       "      <td>33</td>\n",
       "      <td>29.57</td>\n",
       "      <td>-104.42</td>\n",
       "      <td>89.60</td>\n",
       "      <td>5.82</td>\n",
       "    </tr>\n",
       "    <tr>\n",
       "      <th>3</th>\n",
       "      <td>3</td>\n",
       "      <td>Myaundzha</td>\n",
       "      <td>31</td>\n",
       "      <td>RU</td>\n",
       "      <td>1595266633</td>\n",
       "      <td>70</td>\n",
       "      <td>63.05</td>\n",
       "      <td>147.19</td>\n",
       "      <td>53.26</td>\n",
       "      <td>3.56</td>\n",
       "    </tr>\n",
       "    <tr>\n",
       "      <th>4</th>\n",
       "      <td>4</td>\n",
       "      <td>Butaritari</td>\n",
       "      <td>90</td>\n",
       "      <td>KI</td>\n",
       "      <td>1595266478</td>\n",
       "      <td>67</td>\n",
       "      <td>3.07</td>\n",
       "      <td>172.79</td>\n",
       "      <td>82.78</td>\n",
       "      <td>6.58</td>\n",
       "    </tr>\n",
       "    <tr>\n",
       "      <th>...</th>\n",
       "      <td>...</td>\n",
       "      <td>...</td>\n",
       "      <td>...</td>\n",
       "      <td>...</td>\n",
       "      <td>...</td>\n",
       "      <td>...</td>\n",
       "      <td>...</td>\n",
       "      <td>...</td>\n",
       "      <td>...</td>\n",
       "      <td>...</td>\n",
       "    </tr>\n",
       "    <tr>\n",
       "      <th>571</th>\n",
       "      <td>571</td>\n",
       "      <td>Conde</td>\n",
       "      <td>75</td>\n",
       "      <td>BR</td>\n",
       "      <td>1595266781</td>\n",
       "      <td>83</td>\n",
       "      <td>-7.26</td>\n",
       "      <td>-34.91</td>\n",
       "      <td>78.80</td>\n",
       "      <td>16.11</td>\n",
       "    </tr>\n",
       "    <tr>\n",
       "      <th>572</th>\n",
       "      <td>572</td>\n",
       "      <td>Sevierville</td>\n",
       "      <td>1</td>\n",
       "      <td>US</td>\n",
       "      <td>1595266719</td>\n",
       "      <td>44</td>\n",
       "      <td>35.87</td>\n",
       "      <td>-83.56</td>\n",
       "      <td>93.20</td>\n",
       "      <td>5.82</td>\n",
       "    </tr>\n",
       "    <tr>\n",
       "      <th>573</th>\n",
       "      <td>573</td>\n",
       "      <td>Kumul</td>\n",
       "      <td>100</td>\n",
       "      <td>CN</td>\n",
       "      <td>1595266782</td>\n",
       "      <td>18</td>\n",
       "      <td>42.80</td>\n",
       "      <td>93.45</td>\n",
       "      <td>89.24</td>\n",
       "      <td>10.20</td>\n",
       "    </tr>\n",
       "    <tr>\n",
       "      <th>574</th>\n",
       "      <td>574</td>\n",
       "      <td>Ponta Delgada</td>\n",
       "      <td>75</td>\n",
       "      <td>PT</td>\n",
       "      <td>1595266782</td>\n",
       "      <td>56</td>\n",
       "      <td>37.73</td>\n",
       "      <td>-25.67</td>\n",
       "      <td>73.40</td>\n",
       "      <td>9.17</td>\n",
       "    </tr>\n",
       "    <tr>\n",
       "      <th>575</th>\n",
       "      <td>575</td>\n",
       "      <td>Khovd</td>\n",
       "      <td>50</td>\n",
       "      <td>MN</td>\n",
       "      <td>1595266782</td>\n",
       "      <td>50</td>\n",
       "      <td>48.01</td>\n",
       "      <td>91.64</td>\n",
       "      <td>69.76</td>\n",
       "      <td>3.98</td>\n",
       "    </tr>\n",
       "  </tbody>\n",
       "</table>\n",
       "<p>576 rows × 10 columns</p>\n",
       "</div>"
      ],
      "text/plain": [
       "     City_ID           City  Cloudiness Country        Date  Humidity    Lat  \\\n",
       "0          0       Newberry           1      US  1595266632        50  34.27   \n",
       "1          1          Kapaa          40      US  1595266477        69  22.08   \n",
       "2          2        Ojinaga           1      MX  1595266633        33  29.57   \n",
       "3          3      Myaundzha          31      RU  1595266633        70  63.05   \n",
       "4          4     Butaritari          90      KI  1595266478        67   3.07   \n",
       "..       ...            ...         ...     ...         ...       ...    ...   \n",
       "571      571          Conde          75      BR  1595266781        83  -7.26   \n",
       "572      572    Sevierville           1      US  1595266719        44  35.87   \n",
       "573      573          Kumul         100      CN  1595266782        18  42.80   \n",
       "574      574  Ponta Delgada          75      PT  1595266782        56  37.73   \n",
       "575      575          Khovd          50      MN  1595266782        50  48.01   \n",
       "\n",
       "        Lng  Max Temp  Wind Speed  \n",
       "0    -81.62    100.00        8.05  \n",
       "1   -159.32     80.60       14.99  \n",
       "2   -104.42     89.60        5.82  \n",
       "3    147.19     53.26        3.56  \n",
       "4    172.79     82.78        6.58  \n",
       "..      ...       ...         ...  \n",
       "571  -34.91     78.80       16.11  \n",
       "572  -83.56     93.20        5.82  \n",
       "573   93.45     89.24       10.20  \n",
       "574  -25.67     73.40        9.17  \n",
       "575   91.64     69.76        3.98  \n",
       "\n",
       "[576 rows x 10 columns]"
      ]
     },
     "execution_count": 6,
     "metadata": {},
     "output_type": "execute_result"
    }
   ],
   "source": [
    "# Make a new DataFrame equal to the city data to drop all humidity outliers by index.\n",
    "# Passing \"inplace=False\" will make a copy of the city_data DataFrame, which we call \"clean_city_data\".\n",
    "clean_city_data = df[df.Humidity <= 100].reset_index(inplace=False, drop=True)\n",
    "clean_city_data"
   ]
  },
  {
   "cell_type": "code",
   "execution_count": 7,
   "metadata": {},
   "outputs": [],
   "source": [
    "# Extract relevant fields from the data frame\n",
    "#(There is no need to extract anything. I will just keep all the data.)\n",
    "# Export the City_Data into a csv\n",
    "\"\"\"\n",
    "(Please note that despite the fact the instructions required that I make a new dataframe titled 'clean_city_data'\n",
    "the instructions imply that I should actually export the dataframe that does NOT remove humidities over 100.)\n",
    "\"\"\" \n",
    "df.to_csv(output_data_file, index=False)"
   ]
  },
  {
   "cell_type": "code",
   "execution_count": 8,
   "metadata": {},
   "outputs": [
    {
     "data": {
      "text/plain": [
       "'7.20.2020'"
      ]
     },
     "execution_count": 8,
     "metadata": {},
     "output_type": "execute_result"
    }
   ],
   "source": [
    "date = f'{datetime.now().month}.{datetime.now().day}.{datetime.now().year}'\n",
    "date"
   ]
  },
  {
   "cell_type": "markdown",
   "metadata": {},
   "source": [
    "## Plotting the Data\n",
    "* Use proper labeling of the plots using plot titles (including date of analysis) and axes labels.\n",
    "* Save the plotted figures as .pngs."
   ]
  },
  {
   "cell_type": "markdown",
   "metadata": {},
   "source": [
    "## Latitude vs. Temperature Plot"
   ]
  },
  {
   "cell_type": "code",
   "execution_count": 106,
   "metadata": {
    "scrolled": true
   },
   "outputs": [
    {
     "data": {
      "image/png": "[encoded data removed]",
      "text/plain": [
       "<Figure size 504x504 with 1 Axes>"
      ]
     },
     "metadata": {
      "needs_background": "light"
     },
     "output_type": "display_data"
    },
    {
     "name": "stdout",
     "output_type": "stream",
     "text": [
      "This plot is analyzing the relationship between latitude and max temperature. The relationship is an inverted u-shape, suggesting that temperature is highest at, or slightly above the equator, and decreases when moving away from the equator in either direction.\n"
     ]
    }
   ],
   "source": [
    "lt = df[['Lat','Max Temp']].reset_index()\n",
    "\n",
    "turtlez = lt.plot.scatter('Lat', 'Max Temp', title='Latitude vs. Temperature', figsize=(7,7))\n",
    "turtlez.set_xlabel('Latitude')\n",
    "turtlez.set_ylabel('Max Temperature (F)')\n",
    "plt.savefig(f'output_data/City Latitude vs Max Temperature ({date}).png')\n",
    "plt.show()\n",
    "print(\"This plot is analyzing the relationship between latitude and max temperature. \\\n",
    "The relationship is an inverted u-shape, suggesting that temperature is highest at, or slightly above the equator, \\\n",
    "and decreases when moving away from the equator in either direction.\")"
   ]
  },
  {
   "cell_type": "markdown",
   "metadata": {},
   "source": [
    "## Latitude vs. Humidity Plot"
   ]
  },
  {
   "cell_type": "code",
   "execution_count": 19,
   "metadata": {},
   "outputs": [
    {
     "data": {
      "image/png": "[encoded data removed]",
      "text/plain": [
       "<Figure size 504x504 with 1 Axes>"
      ]
     },
     "metadata": {
      "needs_background": "light"
     },
     "output_type": "display_data"
    },
    {
     "name": "stdout",
     "output_type": "stream",
     "text": [
      "This plot does not show a relationship between latitude and humidity.\n"
     ]
    }
   ],
   "source": [
    "lh = df[['Lat','Humidity']].reset_index()\n",
    "\n",
    "turtlez = lh.plot.scatter('Lat', 'Humidity', title='Latitude Vs. Humidity', figsize=(7,7))\n",
    "turtlez.set_xlabel('Latitude')\n",
    "turtlez.set_ylabel('Humidity (%)')\n",
    "plt.savefig(f'output_data/City Latitude vs Humidity ({date}).png')\n",
    "plt.show()\n",
    "print('This plot does not show a relationship between latitude and humidity.')"
   ]
  },
  {
   "cell_type": "markdown",
   "metadata": {},
   "source": [
    "## Latitude vs. Cloudiness Plot"
   ]
  },
  {
   "cell_type": "code",
   "execution_count": 20,
   "metadata": {},
   "outputs": [
    {
     "data": {
      "image/png": "[encoded data removed]",
      "text/plain": [
       "<Figure size 504x504 with 1 Axes>"
      ]
     },
     "metadata": {
      "needs_background": "light"
     },
     "output_type": "display_data"
    },
    {
     "name": "stdout",
     "output_type": "stream",
     "text": [
      "This plot does not show a relationship between latitude and cloudiness.\n"
     ]
    }
   ],
   "source": [
    "lc = df[['Lat','Cloudiness']].reset_index()\n",
    "\n",
    "turtlez = lc.plot.scatter('Lat', 'Cloudiness', title='Latitude Vs. Cloudiness', figsize=(7,7))\n",
    "turtlez.set_xlabel('Latitude')\n",
    "turtlez.set_ylabel('Cloudiness (%)')\n",
    "plt.savefig(f'output_data/City Latitude vs Cloudiness ({date}).png')\n",
    "plt.show()\n",
    "print('This plot does not show a relationship between latitude and cloudiness.')"
   ]
  },
  {
   "cell_type": "markdown",
   "metadata": {},
   "source": [
    "## Latitude vs. Wind Speed Plot"
   ]
  },
  {
   "cell_type": "code",
   "execution_count": 21,
   "metadata": {},
   "outputs": [
    {
     "data": {
      "image/png": "[encoded data removed]",
      "text/plain": [
       "<Figure size 504x504 with 1 Axes>"
      ]
     },
     "metadata": {
      "needs_background": "light"
     },
     "output_type": "display_data"
    },
    {
     "name": "stdout",
     "output_type": "stream",
     "text": [
      "This plot does not show a relationship between latitude and wind speed.\n"
     ]
    }
   ],
   "source": [
    "lw = df[['Lat','Wind Speed']].reset_index()\n",
    "\n",
    "turtlez = lw.plot.scatter('Lat', 'Wind Speed', title='Latitude Vs. Wind Speed', figsize=(7,7))\n",
    "turtlez.set_xlabel('Latitude')\n",
    "turtlez.set_ylabel('Wind Speed (mph)')\n",
    "plt.savefig(f'output_data/City Latitude vs Wind Speed ({date}).png')\n",
    "plt.show()\n",
    "print('This plot does not show a relationship between latitude and wind speed.')"
   ]
  },
  {
   "cell_type": "markdown",
   "metadata": {},
   "source": [
    "## Linear Regression"
   ]
  },
  {
   "cell_type": "code",
   "execution_count": 75,
   "metadata": {},
   "outputs": [],
   "source": [
    "# OPTIONAL: Create a function to create Linear Regression plots\n",
    "def regression(x, y, x_label, y_label, hemisphere):\n",
    "    title = f'{hemisphere} Hemisphere:\\nRegressing {y_label} on {x_label}'\n",
    "    (slope, intercept, rvalue, pvalue, stderr) = linregress(x, y)\n",
    "    regress_values = x * slope + intercept\n",
    "    line_eq = \"y = \" + str(round(slope,2)) + \"x + \" + str(round(intercept,2))\n",
    "    plt.scatter(x, y)\n",
    "    plt.plot(x,regress_values,\"r-\")\n",
    "    plt.xlabel(x_label)\n",
    "    plt.ylabel(y_label)\n",
    "    plt.title(title)\n",
    "    title = title.replace(':\\n', '_').replace(' ', '_')\n",
    "    plt.savefig(f'output_data/{title}.png')\n",
    "    plt.show()\n",
    "    print(line_eq)\n",
    "    print()\n",
    "    print(f\"r = {pearsonr(x, y)[0]:.2f}, p = {pearsonr(x, y)[1]:.4f}, r_squared = {rvalue**2:.2f}\")\n",
    "    print()"
   ]
  },
  {
   "cell_type": "code",
   "execution_count": 76,
   "metadata": {},
   "outputs": [],
   "source": [
    "# Create Northern and Southern Hemisphere DataFrames\n",
    "dfn = df[df.Lat >= 0]\n",
    "dfs = df[df.Lat < 0]"
   ]
  },
  {
   "cell_type": "markdown",
   "metadata": {},
   "source": [
    "####  Northern Hemisphere - Max Temp vs. Latitude Linear Regression"
   ]
  },
  {
   "cell_type": "code",
   "execution_count": 107,
   "metadata": {},
   "outputs": [
    {
     "data": {
      "image/png": "[encoded data removed]",
      "text/plain": [
       "<Figure size 432x288 with 1 Axes>"
      ]
     },
     "metadata": {
      "needs_background": "light"
     },
     "output_type": "display_data"
    },
    {
     "name": "stdout",
     "output_type": "stream",
     "text": [
      "y = -0.49x + 91.57\n",
      "\n",
      "r = -0.66, p = 0.0000, r_squared = 0.44\n",
      "\n",
      "In the Northern Hemisphere there is a moderately strong negative relationship between latitude and max temperature.\n",
      "Thus, temperature decreases as one moves north of the equator (i.e., as latitude increases).\n"
     ]
    }
   ],
   "source": [
    "regression(dfn.Lat, dfn['Max Temp'], 'Latitude', 'Max Temperature (F)', 'Northern')\n",
    "print('In the Northern Hemisphere there is a moderately strong negative relationship between latitude and max temperature.\\n\\\n",
    "Thus, temperature decreases as one moves north of the equator (i.e., as latitude increases).')"
   ]
  },
  {
   "cell_type": "markdown",
   "metadata": {},
   "source": [
    "####  Southern Hemisphere - Max Temp vs. Latitude Linear Regression"
   ]
  },
  {
   "cell_type": "code",
   "execution_count": 108,
   "metadata": {},
   "outputs": [
    {
     "data": {
      "image/png": "[encoded data removed]",
      "text/plain": [
       "<Figure size 432x288 with 1 Axes>"
      ]
     },
     "metadata": {
      "needs_background": "light"
     },
     "output_type": "display_data"
    },
    {
     "name": "stdout",
     "output_type": "stream",
     "text": [
      "y = 0.74x + 81.14\n",
      "\n",
      "r = 0.75, p = 0.0000, r_squared = 0.57\n",
      "\n",
      "In the Southern Hemisphere there is a moderately strong positive relationship between latitude and max temperature.\n",
      "Temperature decreases as one travels south of the equator (i.e., as latitude decreases).\n"
     ]
    }
   ],
   "source": [
    "regression(dfs.Lat, dfs['Max Temp'], 'Latitude', 'Max Temperature (F)', 'Southern')\n",
    "print('In the Southern Hemisphere there is a moderately strong positive relationship between latitude and max temperature.\\n\\\n",
    "Temperature decreases as one travels south of the equator (i.e., as latitude decreases).')"
   ]
  },
  {
   "cell_type": "markdown",
   "metadata": {},
   "source": [
    "####  Northern Hemisphere - Humidity (%) vs. Latitude Linear Regression"
   ]
  },
  {
   "cell_type": "code",
   "execution_count": 109,
   "metadata": {},
   "outputs": [
    {
     "data": {
      "image/png": "[encoded data removed]",
      "text/plain": [
       "<Figure size 432x288 with 1 Axes>"
      ]
     },
     "metadata": {
      "needs_background": "light"
     },
     "output_type": "display_data"
    },
    {
     "name": "stdout",
     "output_type": "stream",
     "text": [
      "y = 0.05x + 65.35\n",
      "\n",
      "r = 0.04, p = 0.3860, r_squared = 0.00\n",
      "\n",
      "In the Northern Hemisphere there is no statistical evidence for a relationship between latitude and humidity, p > 0.05.\n"
     ]
    }
   ],
   "source": [
    "regression(dfn.Lat, dfn.Humidity, 'Latitude', 'Humidity (%)', 'Northern')\n",
    "print('In the Northern Hemisphere there is no statistical evidence for a relationship between latitude and humidity, p > 0.05.')"
   ]
  },
  {
   "cell_type": "markdown",
   "metadata": {},
   "source": [
    "####  Southern Hemisphere - Humidity (%) vs. Latitude Linear Regression"
   ]
  },
  {
   "cell_type": "code",
   "execution_count": 110,
   "metadata": {},
   "outputs": [
    {
     "data": {
      "image/png": "[encoded data removed]",
      "text/plain": [
       "<Figure size 432x288 with 1 Axes>"
      ]
     },
     "metadata": {
      "needs_background": "light"
     },
     "output_type": "display_data"
    },
    {
     "name": "stdout",
     "output_type": "stream",
     "text": [
      "y = -0.2x + 66.13\n",
      "\n",
      "r = -0.13, p = 0.0712, r_squared = 0.02\n",
      "\n",
      "In the Southern Hemisphere there is also no statistical evidence for a relationship between latitude and humidity, p > 0.05.\n"
     ]
    }
   ],
   "source": [
    "regression(dfs.Lat, dfs.Humidity, 'Latitude', 'Humidity (%)', 'Southern')\n",
    "print('In the Southern Hemisphere there is also no statistical evidence for a relationship between latitude and humidity, p > 0.05.')"
   ]
  },
  {
   "cell_type": "markdown",
   "metadata": {},
   "source": [
    "####  Northern Hemisphere - Cloudiness (%) vs. Latitude Linear Regression"
   ]
  },
  {
   "cell_type": "code",
   "execution_count": 111,
   "metadata": {},
   "outputs": [
    {
     "data": {
      "image/png": "[encoded data removed]",
      "text/plain": [
       "<Figure size 432x288 with 1 Axes>"
      ]
     },
     "metadata": {
      "needs_background": "light"
     },
     "output_type": "display_data"
    },
    {
     "name": "stdout",
     "output_type": "stream",
     "text": [
      "y = -0.05x + 56.18\n",
      "\n",
      "r = -0.03, p = 0.5839, r_squared = 0.00\n",
      "\n",
      "In the Northern Hemisphere there is no statistical evidence for a relationship between latitude and cloudiness, p > 0.05.\n"
     ]
    }
   ],
   "source": [
    "regression(dfn.Lat, dfn.Cloudiness, 'Latitude', 'Cloudiness (%)', 'Northern')\n",
    "print('In the Northern Hemisphere there is no statistical evidence for a relationship between latitude and cloudiness, p > 0.05.')"
   ]
  },
  {
   "cell_type": "markdown",
   "metadata": {},
   "source": [
    "####  Southern Hemisphere - Cloudiness (%) vs. Latitude Linear Regression"
   ]
  },
  {
   "cell_type": "code",
   "execution_count": 112,
   "metadata": {},
   "outputs": [
    {
     "data": {
      "image/png": "[encoded data removed]",
      "text/plain": [
       "<Figure size 432x288 with 1 Axes>"
      ]
     },
     "metadata": {
      "needs_background": "light"
     },
     "output_type": "display_data"
    },
    {
     "name": "stdout",
     "output_type": "stream",
     "text": [
      "y = -0.21x + 42.55\n",
      "\n",
      "r = -0.08, p = 0.2964, r_squared = 0.01\n",
      "\n",
      "In the Southern Hemisphere there is also no statistical evidence for a relationship between latitude and cloudiness, p > 0.05.\n"
     ]
    }
   ],
   "source": [
    "regression(dfs.Lat, dfs.Cloudiness, 'Latitude', 'Cloudiness (%)', 'Southern')\n",
    "print('In the Southern Hemisphere there is also no statistical evidence for a relationship between latitude and cloudiness, p > 0.05.')"
   ]
  },
  {
   "cell_type": "markdown",
   "metadata": {},
   "source": [
    "####  Northern Hemisphere - Wind Speed (mph) vs. Latitude Linear Regression"
   ]
  },
  {
   "cell_type": "code",
   "execution_count": 113,
   "metadata": {},
   "outputs": [
    {
     "data": {
      "image/png": "[encoded data removed]",
      "text/plain": [
       "<Figure size 432x288 with 1 Axes>"
      ]
     },
     "metadata": {
      "needs_background": "light"
     },
     "output_type": "display_data"
    },
    {
     "name": "stdout",
     "output_type": "stream",
     "text": [
      "y = -0.02x + 8.1\n",
      "\n",
      "r = -0.07, p = 0.1856, r_squared = 0.00\n",
      "\n",
      "In the Northern Hemisphere there is no statistical evidence for a relationship between latitude and wind speed, p > 0.05.\n"
     ]
    }
   ],
   "source": [
    "regression(dfn.Lat, dfn['Wind Speed'], 'Latitude', 'Wind Speed (mph)', 'Northern')\n",
    "print('In the Northern Hemisphere there is no statistical evidence for a relationship between latitude and wind speed, p > 0.05.')"
   ]
  },
  {
   "cell_type": "markdown",
   "metadata": {},
   "source": [
    "####  Southern Hemisphere - Wind Speed (mph) vs. Latitude Linear Regression"
   ]
  },
  {
   "cell_type": "code",
   "execution_count": 114,
   "metadata": {},
   "outputs": [
    {
     "data": {
      "image/png": "[encoded data removed]",
      "text/plain": [
       "<Figure size 432x288 with 1 Axes>"
      ]
     },
     "metadata": {
      "needs_background": "light"
     },
     "output_type": "display_data"
    },
    {
     "name": "stdout",
     "output_type": "stream",
     "text": [
      "y = -0.0x + 8.1\n",
      "\n",
      "r = -0.00, p = 0.9590, r_squared = 0.00\n",
      "\n",
      "In the Southern Hemisphere there is also no statistical evidence for a relationship between latitude and wind speed, p > 0.05.\n"
     ]
    }
   ],
   "source": [
    "regression(dfs.Lat, dfs['Wind Speed'], 'Latitude', 'Wind Speed (mph)', 'Southern')\n",
    "print('In the Southern Hemisphere there is also no statistical evidence for a relationship between latitude and wind speed, p > 0.05.')"
   ]
  }
 ],
 "metadata": {
  "anaconda-cloud": {},
  "kernel_info": {
   "name": "python3"
  },
  "kernelspec": {
   "display_name": "Python 3",
   "language": "python",
   "name": "python3"
  },
  "language_info": {
   "codemirror_mode": {
    "name": "ipython",
    "version": 3
   },
   "file_extension": ".py",
   "mimetype": "text/x-python",
   "name": "python",
   "nbconvert_exporter": "python",
   "pygments_lexer": "ipython3",
   "version": "3.7.6"
  },
  "latex_envs": {
   "LaTeX_envs_menu_present": true,
   "autoclose": false,
   "autocomplete": true,
   "bibliofile": "biblio.bib",
   "cite_by": "apalike",
   "current_citInitial": 1,
   "eqLabelWithNumbers": true,
   "eqNumInitial": 1,
   "hotkeys": {
    "equation": "Ctrl-E",
    "itemize": "Ctrl-I"
   },
   "labels_anchors": false,
   "latex_user_defs": false,
   "report_style_numbering": false,
   "user_envs_cfg": false
  },
  "nteract": {
   "version": "0.12.3"
  }
 },
 "nbformat": 4,
 "nbformat_minor": 4
}
